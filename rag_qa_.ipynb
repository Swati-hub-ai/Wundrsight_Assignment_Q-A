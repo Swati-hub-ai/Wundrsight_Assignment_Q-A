{
 "cells": [
  {
   "cell_type": "markdown",
   "id": "d7d9c9ed",
   "metadata": {},
   "source": [
    "## 📥 Step 1: Load PDF Documents\n",
    "We use `DirectoryLoader` with `PyPDFLoader` to load all PDF files in the `data/` directory."
   ]
  },
  {
   "cell_type": "code",
   "execution_count": 8,
   "id": "451a0561",
   "metadata": {},
   "outputs": [
    {
     "name": "stdout",
     "output_type": "stream",
     "text": [
      "Loaded 377 PDF pages\n"
     ]
    }
   ],
   "source": [
    "from langchain_community.document_loaders import PyPDFLoader, DirectoryLoader\n",
    "\n",
    "DATA_PATH = \"data/\"\n",
    "\n",
    "def load_pdf_files(data):\n",
    "    loader = DirectoryLoader(data, glob='*.pdf', loader_cls=PyPDFLoader)\n",
    "    documents = loader.load()\n",
    "    return documents\n",
    "\n",
    "documents = load_pdf_files(DATA_PATH)\n",
    "print(f\"Loaded {len(documents)} PDF pages\")"
   ]
  },
  {
   "cell_type": "markdown",
   "id": "cc0ba821",
   "metadata": {},
   "source": [
    "## 📘 Step 2: Chunk PDF Text\n",
    "We split text into ~400 token chunks with 50 token overlap using `RecursiveCharacterTextSplitter`."
   ]
  },
  {
   "cell_type": "code",
   "execution_count": 9,
   "id": "a8bcff1e",
   "metadata": {},
   "outputs": [
    {
     "name": "stdout",
     "output_type": "stream",
     "text": [
      "Total Chunks: 1971\n"
     ]
    }
   ],
   "source": [
    "from langchain.text_splitter import RecursiveCharacterTextSplitter\n",
    "\n",
    "splitter = RecursiveCharacterTextSplitter(chunk_size=400, chunk_overlap=50)\n",
    "chunks = splitter.split_documents(documents)\n",
    "print(f\"Total Chunks: {len(chunks)}\")"
   ]
  },
  {
   "cell_type": "markdown",
   "id": "033f5a92",
   "metadata": {},
   "source": [
    "## Step 3: Create Embeddings and Vector Store"
   ]
  },
  {
   "cell_type": "code",
   "execution_count": 10,
   "id": "fb653c7f",
   "metadata": {},
   "outputs": [
    {
     "name": "stderr",
     "output_type": "stream",
     "text": [
      "d:\\medical_chatbot_updated-main\\myenv\\Lib\\site-packages\\tqdm\\auto.py:21: TqdmWarning: IProgress not found. Please update jupyter and ipywidgets. See https://ipywidgets.readthedocs.io/en/stable/user_install.html\n",
      "  from .autonotebook import tqdm as notebook_tqdm\n"
     ]
    },
    {
     "name": "stdout",
     "output_type": "stream",
     "text": [
      " FAISS vector store created\n"
     ]
    }
   ],
   "source": [
    "from langchain_community.vectorstores import FAISS\n",
    "from langchain_huggingface import HuggingFaceEmbeddings\n",
    "\n",
    "embedding_model = HuggingFaceEmbeddings(model_name=\"sentence-transformers/all-MiniLM-L6-v2\")\n",
    "vectorstore = FAISS.from_documents(chunks, embedding_model)\n",
    "print(\" FAISS vector store created\")"
   ]
  },
  {
   "cell_type": "code",
   "execution_count": 11,
   "id": "34aa064f",
   "metadata": {},
   "outputs": [
    {
     "name": "stdout",
     "output_type": "stream",
     "text": [
      "✅ GROQ_API_KEY Found: True\n",
      "🔐 First 10 characters: gsk_I2cO3q********\n"
     ]
    }
   ],
   "source": [
    "\n",
    "from dotenv import load_dotenv, find_dotenv\n",
    "import os\n",
    "\n",
    "# Load .env file\n",
    "load_dotenv(find_dotenv())\n",
    "\n",
    "# Fetch Groq API key\n",
    "GROQ_API_KEY = os.getenv(\"GROQ_API_KEY\")\n",
    "\n",
    "# Show secure confirmation\n",
    "if GROQ_API_KEY:\n",
    "    print(\"✅ GROQ_API_KEY Found:\", True)\n",
    "    print(\"🔐 First 10 characters:\", GROQ_API_KEY[:10] + \"********\")\n",
    "else:\n",
    "    print(\"❌ GROQ_API_KEY not found. Please check your .env file.\")\n"
   ]
  },
  {
   "cell_type": "markdown",
   "id": "7abf5692",
   "metadata": {},
   "source": [
    "## Step 4: Load LLM from grog"
   ]
  },
  {
   "cell_type": "code",
   "execution_count": 19,
   "id": "d01f0235",
   "metadata": {},
   "outputs": [],
   "source": [
    "from langchain_groq import ChatGroq\n",
    "from dotenv import load_dotenv, find_dotenv\n",
    "import os\n",
    "\n",
    "# Load .env\n",
    "load_dotenv(find_dotenv())\n",
    "\n",
    "# Load Groq API key\n",
    "groq_api_key = os.getenv(\"GROQ_API_KEY\")\n",
    "assert groq_api_key, \"❌ GROQ_API_KEY not found in .env\"\n",
    "\n",
    "# Load LLM (e.g. Mixtral, Gemma, LLaMA3)\n",
    "llm = ChatGroq(\n",
    "    model_name=\"gemma-7b-it\",  # or use \"llama3-70b-8192\", \"gemma-7b-it\"\n",
    "    api_key=groq_api_key\n",
    ")\n"
   ]
  },
  {
   "cell_type": "markdown",
   "id": "c5bc93d4",
   "metadata": {},
   "source": [
    "## Step 5: Prompt Template + QA Chain"
   ]
  },
  {
   "cell_type": "code",
   "execution_count": 17,
   "id": "9820367b",
   "metadata": {},
   "outputs": [],
   "source": [
    "from dotenv import load_dotenv, find_dotenv\n",
    "import os\n",
    "from langchain.chains import RetrievalQA\n",
    "from langchain.prompts import PromptTemplate\n",
    "from langchain_groq import ChatGroq\n",
    "\n",
    "# Load environment\n",
    "load_dotenv(find_dotenv())\n",
    "GROQ_API_KEY = os.getenv(\"GROQ_API_KEY\")\n",
    "\n",
    "# Load Groq LLM\n",
    "llm = ChatGroq(\n",
    "    model_name=\"gemma2-9b-it\",  # You can use llama3-70b-8192 or gemma-7b-it\n",
    "    api_key=GROQ_API_KEY\n",
    ")\n",
    "\n",
    "# Create your prompt\n",
    "prompt_template = PromptTemplate(\n",
    "    template=\"\"\"\n",
    "Use the information in the context below to answer the question.\n",
    "If unsure, say \"I don't know.\"\n",
    "\n",
    "Context:\n",
    "{context}\n",
    "\n",
    "Question:\n",
    "{question}\n",
    "\n",
    "Answer:\n",
    "\"\"\",\n",
    "    input_variables=[\"context\", \"question\"]\n",
    ")\n",
    "\n",
    "# QA Chain\n",
    "qa_chain = RetrievalQA.from_chain_type(\n",
    "    llm=llm,\n",
    "    retriever=vectorstore.as_retriever(search_kwargs={\"k\": 3}),\n",
    "    return_source_documents=True,\n",
    "    chain_type_kwargs={\"prompt\": prompt_template}\n",
    ")\n"
   ]
  },
  {
   "cell_type": "markdown",
   "id": "cb2eca7f",
   "metadata": {},
   "source": [
    "## 🧪 Step 6: Run Sample Queries"
   ]
  },
  {
   "cell_type": "code",
   "execution_count": 18,
   "id": "2829cff5",
   "metadata": {},
   "outputs": [
    {
     "name": "stdout",
     "output_type": "stream",
     "text": [
      "\n",
      "🔎 Query: Give me the correct coded classification for the following diagnosis: Recurrent depressive disorder, currently in remission\n",
      "✅ Answer: F33.4  \n",
      "\n",
      "📌 Context Snippets:\n",
      "- Chunk 1: MENTAL AND BEHAVIOURAL DISORDERS F33.4 Recurrent depressive disorder, currently in remission Diagnostic guidelines For a definite diagnosis: (a) the c...\n",
      "- Chunk 2: recurrent depressive disorder (F33.-). These grades of severity are specified to cover a wide range of clinical states that are encountered in differe...\n",
      "- Chunk 3: .10 Recurrent brief depressive disorder F38.8 Other specified mood [affective] disorders F39 Unspecified mood [affective] disorder 111...\n",
      "\n",
      "🔎 Query: What are the diagnostic criteria for Obsessive-Compulsive Disorder (OCD)?\n",
      "✅ Answer: For a definite diagnosis, obsessional symptoms or compulsive acts, or both, must be present on most days for at least 2 successive  \n",
      "\n",
      "📌 Context Snippets:\n",
      "- Chunk 1: underlying personality. Onset is usually in childhood or early adult life. The course is variable and more likely to be chronic in the absence of sign...\n",
      "- Chunk 2: obsessive - compulsive neurosis Differential diagnosis. Differentiating between obsessive - compulsive disorder and a depressive disorder may be diffi...\n",
      "- Chunk 3: The commonest examples are obsessive - compulsive disorder (F42.-),  dissociative disorders (F44.-), somatization disorder (F45.0), undifferentiated s...\n"
     ]
    }
   ],
   "source": [
    "sample_questions = [\n",
    "    \"Give me the correct coded classification for the following diagnosis: Recurrent depressive disorder, currently in remission\",\n",
    "    \"What are the diagnostic criteria for Obsessive-Compulsive Disorder (OCD)?\"\n",
    "]\n",
    "\n",
    "for query in sample_questions:\n",
    "    print(f\"\\n🔎 Query: {query}\")\n",
    "    result = qa_chain.invoke({\"query\": query})  # Uses Groq-backed LLM\n",
    "    print(\"✅ Answer:\", result[\"result\"])\n",
    "\n",
    "    print(\"📌 Context Snippets:\")\n",
    "    for i, doc in enumerate(result[\"source_documents\"], 1):\n",
    "        snippet = doc.page_content.strip().replace(\"\\n\", \" \")[:150]\n",
    "        print(f\"- Chunk {i}: {snippet}...\")\n"
   ]
  },
  {
   "cell_type": "code",
   "execution_count": null,
   "id": "7d4d374e",
   "metadata": {},
   "outputs": [],
   "source": []
  }
 ],
 "metadata": {
  "kernelspec": {
   "display_name": "myenv",
   "language": "python",
   "name": "python3"
  },
  "language_info": {
   "codemirror_mode": {
    "name": "ipython",
    "version": 3
   },
   "file_extension": ".py",
   "mimetype": "text/x-python",
   "name": "python",
   "nbconvert_exporter": "python",
   "pygments_lexer": "ipython3",
   "version": "3.13.3"
  }
 },
 "nbformat": 4,
 "nbformat_minor": 5
}
